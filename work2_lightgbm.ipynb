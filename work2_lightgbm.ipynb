{
 "cells": [
  {
   "cell_type": "markdown",
   "metadata": {},
   "source": [
    "# Categorical features on LightGBM and Random forest"
   ]
  },
  {
   "cell_type": "markdown",
   "metadata": {},
   "source": [
    "特徴量の取り得る値によって、一般的に常用されている手法が裏目に出るような場合があることを示す。ここでは、本来相性の良いカテゴリ変数の処理と学習モデルとして、`LabelEncoder()`と決定木ベースのアルゴリズムを例にする。"
   ]
  },
  {
   "cell_type": "markdown",
   "metadata": {},
   "source": [
    "## import packages"
   ]
  },
  {
   "cell_type": "code",
   "execution_count": 23,
   "metadata": {},
   "outputs": [],
   "source": [
    "from dtreeviz.trees import dtreeviz\n",
    "from IPython.display import Image\n",
    "from sklearn.externals.six import StringIO\n",
    "from sklearn.ensemble import RandomForestClassifier\n",
    "import numpy as np\n",
    "import pandas as pd\n",
    "from sklearn.preprocessing import LabelEncoder\n",
    "import lightgbm as lgb\n",
    "\n",
    "train = np.random.choice(['a', 'b'], 100)\n",
    "test = np.repeat(['a', 'c'], 1)"
   ]
  },
  {
   "cell_type": "markdown",
   "metadata": {},
   "source": [
    "## generate data and label"
   ]
  },
  {
   "cell_type": "code",
   "execution_count": 24,
   "metadata": {},
   "outputs": [],
   "source": [
    "columns = ['name']\n",
    "\n",
    "X_train = pd.DataFrame(train, columns=columns)\n",
    "y_train = np.where(X_train.iloc[:, 0] == 'b', 1, 0)\n",
    "X_test = pd.DataFrame(test, columns=columns)\n",
    "\n",
    "X_train.name = X_train.name.astype('category')\n",
    "X_test.name = X_test.name.astype('category')"
   ]
  },
  {
   "cell_type": "markdown",
   "metadata": {},
   "source": [
    "トレーニングセットとテストセットを生成する。この際、「bであれば1である」というラベルをセットする。テストセットにはbは存在しないため、結果は0が返ってくると正解。\n",
    "\n",
    "「name」列は`category`型として設定する。ある列に対しこの型が設定されていると、LightGBMは自動的に列をカテゴリ変数として扱ってくれる。"
   ]
  },
  {
   "cell_type": "markdown",
   "metadata": {},
   "source": [
    "## load LightGBM and predict"
   ]
  },
  {
   "cell_type": "code",
   "execution_count": 25,
   "metadata": {},
   "outputs": [
    {
     "data": {
      "text/plain": [
       "array([0., 0.])"
      ]
     },
     "execution_count": 25,
     "metadata": {},
     "output_type": "execute_result"
    }
   ],
   "source": [
    "dataset = lgb.Dataset(X_train, y_train)\n",
    "params = {'objective': 'binary', 'n_estimators': 5, 'learning_rate': 0.5, 'metric': 'binary_logloss'}\n",
    "model = lgb.train(params=params, train_set=dataset)\n",
    "np.round(model.predict(X_test))"
   ]
  },
  {
   "cell_type": "markdown",
   "metadata": {},
   "source": [
    "テストセットにはbが含まれないため、出力も0となる。"
   ]
  },
  {
   "cell_type": "markdown",
   "metadata": {},
   "source": [
    "## encode label"
   ]
  },
  {
   "cell_type": "code",
   "execution_count": 26,
   "metadata": {},
   "outputs": [
    {
     "name": "stdout",
     "output_type": "stream",
     "text": [
      "Train data classes: ['a', 'b']\n",
      "Test data classes: ['a', 'c']\n"
     ]
    }
   ],
   "source": [
    "le = LabelEncoder()\n",
    "X_train.name = le.fit_transform(X_train.name)\n",
    "print('Train data classes: ' + str(list(le.classes_)))\n",
    "X_test.name = le.fit_transform(X_test.name)\n",
    "print('Test data classes: ' + str(list(le.classes_)))\n"
   ]
  },
  {
   "cell_type": "markdown",
   "metadata": {},
   "source": [
    "カテゴリ変数を数値に変換する際によく利用される`LabelEncoder()`を利用し、カテゴリ変数である`name`を変換する。\n",
    "\n",
    "上記の場合で問題なのは、トレーニングセットとテストセットに含まれるカテゴリ変数が一致していないこと。トレーニングセットあるいはテストセットにのみ含まれるデータが存在するため、正確な変換ができていない。とりあえず、誤った変換を行ったデータを用いて、このままモデル生成と予測を行ってみる。"
   ]
  },
  {
   "cell_type": "markdown",
   "metadata": {},
   "source": [
    "## load LightGBM and predict with wrong label"
   ]
  },
  {
   "cell_type": "code",
   "execution_count": 27,
   "metadata": {},
   "outputs": [
    {
     "data": {
      "text/plain": [
       "array([0., 1.])"
      ]
     },
     "execution_count": 27,
     "metadata": {},
     "output_type": "execute_result"
    }
   ],
   "source": [
    "dataset = lgb.Dataset(X_train, y_train, categorical_feature=['name'])\n",
    "params = {'objective': 'binary', 'n_estimators': 5, 'learning_rate': 0.5}\n",
    "model = lgb.train(params=params, train_set=dataset)\n",
    "np.round(model.predict(X_test))"
   ]
  },
  {
   "cell_type": "markdown",
   "metadata": {},
   "source": [
    "見事にcをbと誤って予測した。"
   ]
  },
  {
   "cell_type": "markdown",
   "metadata": {},
   "source": [
    "## load Random Forest and predict"
   ]
  },
  {
   "cell_type": "code",
   "execution_count": 28,
   "metadata": {},
   "outputs": [
    {
     "data": {
      "text/plain": [
       "array([0, 1])"
      ]
     },
     "execution_count": 28,
     "metadata": {},
     "output_type": "execute_result"
    }
   ],
   "source": [
    "forest = RandomForestClassifier(n_estimators=5, random_state=0)\n",
    "forest.fit(X_train, y_train)\n",
    "\n",
    "forest.predict(X_test)"
   ]
  },
  {
   "cell_type": "markdown",
   "metadata": {},
   "source": [
    "Random Forestでも同様の結果となった。"
   ]
  },
  {
   "cell_type": "markdown",
   "metadata": {},
   "source": [
    "## fix categories"
   ]
  },
  {
   "cell_type": "code",
   "execution_count": 29,
   "metadata": {},
   "outputs": [],
   "source": [
    "X_train = pd.DataFrame(train, columns=columns)\n",
    "y_train = np.where(X_train.iloc[:, 0] == 'b', 1, 0)\n",
    "X_test = pd.DataFrame(test, columns=columns)\n",
    "\n",
    "X_train.name = X_train.name.astype('category')\n",
    "X_test.name = X_test.name.astype('category')\n",
    "\n",
    "categories = set(X_train['name'].unique().tolist() +\n",
    "                 X_test['name'].unique().tolist())\n"
   ]
  },
  {
   "cell_type": "markdown",
   "metadata": {},
   "source": [
    "トレーニングセットあるいはテストセットのどちらかにしか存在しないデータがある、という状況が悪いのだから、一度データと集約してから`LabelEncoder()`で変換してみる。"
   ]
  },
  {
   "cell_type": "markdown",
   "metadata": {},
   "source": [
    "## encode label fixed"
   ]
  },
  {
   "cell_type": "code",
   "execution_count": 30,
   "metadata": {},
   "outputs": [
    {
     "name": "stdout",
     "output_type": "stream",
     "text": [
      "Train data classes: ['a', 'b', 'c']\n",
      "Test data classes: ['a', 'b', 'c']\n"
     ]
    }
   ],
   "source": [
    "le.fit(list(categories))\n",
    "X_train.name = le.transform(X_train.name)\n",
    "print('Train data classes: ' + str(list(le.classes_)))\n",
    "X_test.name = le.transform(X_test.name)\n",
    "print('Test data classes: ' + str(list(le.classes_)))\n"
   ]
  },
  {
   "cell_type": "markdown",
   "metadata": {},
   "source": [
    "トレーニングセットとテストセットに含まれるデータを集約してから変換したおかげで、それぞれの変換前クラスが一致しているのがわかる。変換対象のデータとして正確なのが確認できたので、先ほどと同様にモデル生成と予測を行ってみる。"
   ]
  },
  {
   "cell_type": "markdown",
   "metadata": {},
   "source": [
    "## load LightGBM and predict"
   ]
  },
  {
   "cell_type": "code",
   "execution_count": 31,
   "metadata": {},
   "outputs": [
    {
     "data": {
      "text/plain": [
       "array([0., 0.])"
      ]
     },
     "execution_count": 31,
     "metadata": {},
     "output_type": "execute_result"
    }
   ],
   "source": [
    "dataset = lgb.Dataset(X_train, y_train, categorical_feature=['name'])\n",
    "params = {'objective': 'binary', 'n_estimators': 5, 'learning_rate': 0.5}\n",
    "model = lgb.train(params=params, train_set=dataset)\n",
    "np.round(model.predict(X_test))\n"
   ]
  },
  {
   "cell_type": "markdown",
   "metadata": {},
   "source": [
    "冒頭の予測と同様に、テストセットに含まれるデータは「bではない」ので0が出力されている。"
   ]
  },
  {
   "cell_type": "markdown",
   "metadata": {},
   "source": [
    "## load Random Forest and predict"
   ]
  },
  {
   "cell_type": "code",
   "execution_count": 32,
   "metadata": {},
   "outputs": [
    {
     "data": {
      "text/plain": [
       "array([0, 1])"
      ]
     },
     "execution_count": 32,
     "metadata": {},
     "output_type": "execute_result"
    }
   ],
   "source": [
    "forest = RandomForestClassifier(n_estimators=5, random_state=0)\n",
    "forest.fit(X_train, y_train)\n",
    "\n",
    "forest.predict(X_test)\n"
   ]
  },
  {
   "cell_type": "markdown",
   "metadata": {},
   "source": [
    "Random ForestではLightGBMと異なる結果が出た。`LabelEncoder()`の処理結果が正しく出力されているにもかかわらず、予測結果が変化していない。"
   ]
  },
  {
   "cell_type": "markdown",
   "metadata": {},
   "source": [
    "## display dicision tree"
   ]
  },
  {
   "cell_type": "code",
   "execution_count": 33,
   "metadata": {},
   "outputs": [
    {
     "data": {
      "image/svg+xml": [
       "<svg xmlns=\"http://www.w3.org/2000/svg\" xmlns:xlink=\"http://www.w3.org/1999/xlink\" height=\"158.0\" viewBox=\"0.0 0.0 236.5 157.5\" width=\"237.0\">\n",
       "<g class=\"graph\" id=\"graph0\" transform=\"scale(1.0 1.0) rotate(0) translate(4 153.5)\">\n",
       "<title>G</title>\n",
       "<polygon fill=\"white\" points=\"-4,4 -4,-153.5 232.5,-153.5 232.5,4 -4,4\" stroke=\"transparent\" />\n",
       "<g class=\"cluster\" id=\"clust2\">\n",
       "<title>cluster_legend</title>\n",
       "</g>\n",
       "\n",
       "<g class=\"node\" id=\"node1\">\n",
       "<title>node0</title>\n",
       "<svg height=\"45px\" preserveAspectRatio=\"xMinYMin meet\" version=\"1.1\" viewBox=\"0 0 201.32 59.93625\" width=\"151px\" x=\"4.5\" y=\"-140.5\">\n",
       " <defs>\n",
       "  <style type=\"text/css\">\n",
       "*{stroke-linecap:butt;stroke-linejoin:round;}\n",
       "  </style>\n",
       " </defs>\n",
       " <g id=\"figure_1\">\n",
       "  <g id=\"patch_1\">\n",
       "   <path d=\"M 0 59.93625  L 201.32 59.93625  L 201.32 0  L 0 0  z \" style=\"fill:#ffffff;\" />\n",
       "  </g>\n",
       "  <g id=\"axes_1\">\n",
       "   <g id=\"patch_2\">\n",
       "    <path d=\"M 17.18 30.219375  L 201.32 30.219375  L 201.32 3.039375  L 17.18 3.039375  z \" style=\"fill:#ffffff;\" />\n",
       "   </g>\n",
       "   <g id=\"patch_3\">\n",
       "    <path clip-path=\"url(#pe4565cb53d)\" d=\"M 17.18 30.219375  L 26.410075 30.219375  L 26.410075 3.039375  L 17.18 3.039375  z \" style=\"fill:#fefebb;stroke:#444443;stroke-linejoin:miter;stroke-width:0.5;\" />\n",
       "   </g>\n",
       "   <g id=\"patch_4\">\n",
       "    <path clip-path=\"url(#pe4565cb53d)\" d=\"M 26.410075 30.219375  L 35.64015 30.219375  L 35.64015 30.219375  L 26.410075 30.219375  z \" style=\"fill:#fefebb;stroke:#444443;stroke-linejoin:miter;stroke-width:0.5;\" />\n",
       "   </g>\n",
       "   <g id=\"patch_5\">\n",
       "    <path clip-path=\"url(#pe4565cb53d)\" d=\"M 35.64015 30.219375  L 44.870226 30.219375  L 44.870226 30.219375  L 35.64015 30.219375  z \" style=\"fill:#fefebb;stroke:#444443;stroke-linejoin:miter;stroke-width:0.5;\" />\n",
       "   </g>\n",
       "   <g id=\"patch_6\">\n",
       "    <path clip-path=\"url(#pe4565cb53d)\" d=\"M 44.870226 30.219375  L 54.100301 30.219375  L 54.100301 30.219375  L 44.870226 30.219375  z \" style=\"fill:#fefebb;stroke:#444443;stroke-linejoin:miter;stroke-width:0.5;\" />\n",
       "   </g>\n",
       "   <g id=\"patch_7\">\n",
       "    <path clip-path=\"url(#pe4565cb53d)\" d=\"M 54.100301 30.219375  L 63.330376 30.219375  L 63.330376 30.219375  L 54.100301 30.219375  z \" style=\"fill:#fefebb;stroke:#444443;stroke-linejoin:miter;stroke-width:0.5;\" />\n",
       "   </g>\n",
       "   <g id=\"patch_8\">\n",
       "    <path clip-path=\"url(#pe4565cb53d)\" d=\"M 63.330376 30.219375  L 72.560451 30.219375  L 72.560451 30.219375  L 63.330376 30.219375  z \" style=\"fill:#fefebb;stroke:#444443;stroke-linejoin:miter;stroke-width:0.5;\" />\n",
       "   </g>\n",
       "   <g id=\"patch_9\">\n",
       "    <path clip-path=\"url(#pe4565cb53d)\" d=\"M 72.560451 30.219375  L 81.790526 30.219375  L 81.790526 30.219375  L 72.560451 30.219375  z \" style=\"fill:#fefebb;stroke:#444443;stroke-linejoin:miter;stroke-width:0.5;\" />\n",
       "   </g>\n",
       "   <g id=\"patch_10\">\n",
       "    <path clip-path=\"url(#pe4565cb53d)\" d=\"M 81.790526 30.219375  L 91.020602 30.219375  L 91.020602 30.219375  L 81.790526 30.219375  z \" style=\"fill:#fefebb;stroke:#444443;stroke-linejoin:miter;stroke-width:0.5;\" />\n",
       "   </g>\n",
       "   <g id=\"patch_11\">\n",
       "    <path clip-path=\"url(#pe4565cb53d)\" d=\"M 91.020602 30.219375  L 100.250677 30.219375  L 100.250677 30.219375  L 91.020602 30.219375  z \" style=\"fill:#fefebb;stroke:#444443;stroke-linejoin:miter;stroke-width:0.5;\" />\n",
       "   </g>\n",
       "   <g id=\"patch_12\">\n",
       "    <path clip-path=\"url(#pe4565cb53d)\" d=\"M 100.250677 30.219375  L 109.480752 30.219375  L 109.480752 30.219375  L 100.250677 30.219375  z \" style=\"fill:#fefebb;stroke:#444443;stroke-linejoin:miter;stroke-width:0.5;\" />\n",
       "   </g>\n",
       "   <g id=\"patch_13\">\n",
       "    <path clip-path=\"url(#pe4565cb53d)\" d=\"M 109.480752 30.219375  L 118.710827 30.219375  L 118.710827 30.219375  L 109.480752 30.219375  z \" style=\"fill:#fefebb;stroke:#444443;stroke-linejoin:miter;stroke-width:0.5;\" />\n",
       "   </g>\n",
       "   <g id=\"patch_14\">\n",
       "    <path clip-path=\"url(#pe4565cb53d)\" d=\"M 118.710827 30.219375  L 127.940902 30.219375  L 127.940902 30.219375  L 118.710827 30.219375  z \" style=\"fill:#fefebb;stroke:#444443;stroke-linejoin:miter;stroke-width:0.5;\" />\n",
       "   </g>\n",
       "   <g id=\"patch_15\">\n",
       "    <path clip-path=\"url(#pe4565cb53d)\" d=\"M 127.940902 30.219375  L 137.170977 30.219375  L 137.170977 30.219375  L 127.940902 30.219375  z \" style=\"fill:#fefebb;stroke:#444443;stroke-linejoin:miter;stroke-width:0.5;\" />\n",
       "   </g>\n",
       "   <g id=\"patch_16\">\n",
       "    <path clip-path=\"url(#pe4565cb53d)\" d=\"M 137.170977 30.219375  L 146.401053 30.219375  L 146.401053 30.219375  L 137.170977 30.219375  z \" style=\"fill:#fefebb;stroke:#444443;stroke-linejoin:miter;stroke-width:0.5;\" />\n",
       "   </g>\n",
       "   <g id=\"patch_17\">\n",
       "    <path clip-path=\"url(#pe4565cb53d)\" d=\"M 146.401053 30.219375  L 155.631128 30.219375  L 155.631128 30.219375  L 146.401053 30.219375  z \" style=\"fill:#fefebb;stroke:#444443;stroke-linejoin:miter;stroke-width:0.5;\" />\n",
       "   </g>\n",
       "   <g id=\"patch_18\">\n",
       "    <path clip-path=\"url(#pe4565cb53d)\" d=\"M 155.631128 30.219375  L 164.861203 30.219375  L 164.861203 30.219375  L 155.631128 30.219375  z \" style=\"fill:#fefebb;stroke:#444443;stroke-linejoin:miter;stroke-width:0.5;\" />\n",
       "   </g>\n",
       "   <g id=\"patch_19\">\n",
       "    <path clip-path=\"url(#pe4565cb53d)\" d=\"M 164.861203 30.219375  L 174.091278 30.219375  L 174.091278 30.219375  L 164.861203 30.219375  z \" style=\"fill:#fefebb;stroke:#444443;stroke-linejoin:miter;stroke-width:0.5;\" />\n",
       "   </g>\n",
       "   <g id=\"patch_20\">\n",
       "    <path clip-path=\"url(#pe4565cb53d)\" d=\"M 174.091278 30.219375  L 183.321353 30.219375  L 183.321353 30.219375  L 174.091278 30.219375  z \" style=\"fill:#fefebb;stroke:#444443;stroke-linejoin:miter;stroke-width:0.5;\" />\n",
       "   </g>\n",
       "   <g id=\"patch_21\">\n",
       "    <path clip-path=\"url(#pe4565cb53d)\" d=\"M 183.321353 30.219375  L 192.551429 30.219375  L 192.551429 30.219375  L 183.321353 30.219375  z \" style=\"fill:#fefebb;stroke:#444443;stroke-linejoin:miter;stroke-width:0.5;\" />\n",
       "   </g>\n",
       "   <g id=\"patch_22\">\n",
       "    <path clip-path=\"url(#pe4565cb53d)\" d=\"M 17.18 3.039375  L 26.410075 3.039375  L 26.410075 3.039375  L 17.18 3.039375  z \" style=\"fill:#a1dab4;stroke:#444443;stroke-linejoin:miter;stroke-width:0.5;\" />\n",
       "   </g>\n",
       "   <g id=\"patch_23\">\n",
       "    <path clip-path=\"url(#pe4565cb53d)\" d=\"M 26.410075 30.219375  L 35.64015 30.219375  L 35.64015 30.219375  L 26.410075 30.219375  z \" style=\"fill:#a1dab4;stroke:#444443;stroke-linejoin:miter;stroke-width:0.5;\" />\n",
       "   </g>\n",
       "   <g id=\"patch_24\">\n",
       "    <path clip-path=\"url(#pe4565cb53d)\" d=\"M 35.64015 30.219375  L 44.870226 30.219375  L 44.870226 30.219375  L 35.64015 30.219375  z \" style=\"fill:#a1dab4;stroke:#444443;stroke-linejoin:miter;stroke-width:0.5;\" />\n",
       "   </g>\n",
       "   <g id=\"patch_25\">\n",
       "    <path clip-path=\"url(#pe4565cb53d)\" d=\"M 44.870226 30.219375  L 54.100301 30.219375  L 54.100301 30.219375  L 44.870226 30.219375  z \" style=\"fill:#a1dab4;stroke:#444443;stroke-linejoin:miter;stroke-width:0.5;\" />\n",
       "   </g>\n",
       "   <g id=\"patch_26\">\n",
       "    <path clip-path=\"url(#pe4565cb53d)\" d=\"M 54.100301 30.219375  L 63.330376 30.219375  L 63.330376 30.219375  L 54.100301 30.219375  z \" style=\"fill:#a1dab4;stroke:#444443;stroke-linejoin:miter;stroke-width:0.5;\" />\n",
       "   </g>\n",
       "   <g id=\"patch_27\">\n",
       "    <path clip-path=\"url(#pe4565cb53d)\" d=\"M 63.330376 30.219375  L 72.560451 30.219375  L 72.560451 30.219375  L 63.330376 30.219375  z \" style=\"fill:#a1dab4;stroke:#444443;stroke-linejoin:miter;stroke-width:0.5;\" />\n",
       "   </g>\n",
       "   <g id=\"patch_28\">\n",
       "    <path clip-path=\"url(#pe4565cb53d)\" d=\"M 72.560451 30.219375  L 81.790526 30.219375  L 81.790526 30.219375  L 72.560451 30.219375  z \" style=\"fill:#a1dab4;stroke:#444443;stroke-linejoin:miter;stroke-width:0.5;\" />\n",
       "   </g>\n",
       "   <g id=\"patch_29\">\n",
       "    <path clip-path=\"url(#pe4565cb53d)\" d=\"M 81.790526 30.219375  L 91.020602 30.219375  L 91.020602 30.219375  L 81.790526 30.219375  z \" style=\"fill:#a1dab4;stroke:#444443;stroke-linejoin:miter;stroke-width:0.5;\" />\n",
       "   </g>\n",
       "   <g id=\"patch_30\">\n",
       "    <path clip-path=\"url(#pe4565cb53d)\" d=\"M 91.020602 30.219375  L 100.250677 30.219375  L 100.250677 30.219375  L 91.020602 30.219375  z \" style=\"fill:#a1dab4;stroke:#444443;stroke-linejoin:miter;stroke-width:0.5;\" />\n",
       "   </g>\n",
       "   <g id=\"patch_31\">\n",
       "    <path clip-path=\"url(#pe4565cb53d)\" d=\"M 100.250677 30.219375  L 109.480752 30.219375  L 109.480752 30.219375  L 100.250677 30.219375  z \" style=\"fill:#a1dab4;stroke:#444443;stroke-linejoin:miter;stroke-width:0.5;\" />\n",
       "   </g>\n",
       "   <g id=\"patch_32\">\n",
       "    <path clip-path=\"url(#pe4565cb53d)\" d=\"M 109.480752 30.219375  L 118.710827 30.219375  L 118.710827 30.219375  L 109.480752 30.219375  z \" style=\"fill:#a1dab4;stroke:#444443;stroke-linejoin:miter;stroke-width:0.5;\" />\n",
       "   </g>\n",
       "   <g id=\"patch_33\">\n",
       "    <path clip-path=\"url(#pe4565cb53d)\" d=\"M 118.710827 30.219375  L 127.940902 30.219375  L 127.940902 30.219375  L 118.710827 30.219375  z \" style=\"fill:#a1dab4;stroke:#444443;stroke-linejoin:miter;stroke-width:0.5;\" />\n",
       "   </g>\n",
       "   <g id=\"patch_34\">\n",
       "    <path clip-path=\"url(#pe4565cb53d)\" d=\"M 127.940902 30.219375  L 137.170977 30.219375  L 137.170977 30.219375  L 127.940902 30.219375  z \" style=\"fill:#a1dab4;stroke:#444443;stroke-linejoin:miter;stroke-width:0.5;\" />\n",
       "   </g>\n",
       "   <g id=\"patch_35\">\n",
       "    <path clip-path=\"url(#pe4565cb53d)\" d=\"M 137.170977 30.219375  L 146.401053 30.219375  L 146.401053 30.219375  L 137.170977 30.219375  z \" style=\"fill:#a1dab4;stroke:#444443;stroke-linejoin:miter;stroke-width:0.5;\" />\n",
       "   </g>\n",
       "   <g id=\"patch_36\">\n",
       "    <path clip-path=\"url(#pe4565cb53d)\" d=\"M 146.401053 30.219375  L 155.631128 30.219375  L 155.631128 30.219375  L 146.401053 30.219375  z \" style=\"fill:#a1dab4;stroke:#444443;stroke-linejoin:miter;stroke-width:0.5;\" />\n",
       "   </g>\n",
       "   <g id=\"patch_37\">\n",
       "    <path clip-path=\"url(#pe4565cb53d)\" d=\"M 155.631128 30.219375  L 164.861203 30.219375  L 164.861203 30.219375  L 155.631128 30.219375  z \" style=\"fill:#a1dab4;stroke:#444443;stroke-linejoin:miter;stroke-width:0.5;\" />\n",
       "   </g>\n",
       "   <g id=\"patch_38\">\n",
       "    <path clip-path=\"url(#pe4565cb53d)\" d=\"M 164.861203 30.219375  L 174.091278 30.219375  L 174.091278 30.219375  L 164.861203 30.219375  z \" style=\"fill:#a1dab4;stroke:#444443;stroke-linejoin:miter;stroke-width:0.5;\" />\n",
       "   </g>\n",
       "   <g id=\"patch_39\">\n",
       "    <path clip-path=\"url(#pe4565cb53d)\" d=\"M 174.091278 30.219375  L 183.321353 30.219375  L 183.321353 30.219375  L 174.091278 30.219375  z \" style=\"fill:#a1dab4;stroke:#444443;stroke-linejoin:miter;stroke-width:0.5;\" />\n",
       "   </g>\n",
       "   <g id=\"patch_40\">\n",
       "    <path clip-path=\"url(#pe4565cb53d)\" d=\"M 183.321353 30.219375  L 192.551429 30.219375  L 192.551429 5.130144  L 183.321353 5.130144  z \" style=\"fill:#a1dab4;stroke:#444443;stroke-linejoin:miter;stroke-width:0.5;\" />\n",
       "   </g>\n",
       "   <g id=\"patch_41\">\n",
       "    <path d=\"M 104.865714 31.034775  L 101.551194 38.373375  L 108.180234 38.373375  z \" style=\"fill:#444443;\" />\n",
       "   </g>\n",
       "   <g id=\"matplotlib.axis_1\">\n",
       "    <g id=\"xtick_1\">\n",
       "     <g id=\"line2d_1\">\n",
       "      <defs>\n",
       "       <path d=\"M 0 0  L 0 3.5  \" id=\"m7ae63d7699\" style=\"stroke:#000000;stroke-width:0.3;\" />\n",
       "      </defs>\n",
       "      <g>\n",
       "       <use style=\"stroke:#000000;stroke-width:0.3;\" x=\"17.18\" y=\"30.219375\" xlink:href=\"#m7ae63d7699\" />\n",
       "      </g>\n",
       "     </g>\n",
       "     <g id=\"text_1\">\n",
       "      \n",
       "      <defs>\n",
       "       <path d=\"M 31.78125 66.40625  Q 24.171875 66.40625 20.328125 58.90625  Q 16.5 51.421875 16.5 36.375  Q 16.5 21.390625 20.328125 13.890625  Q 24.171875 6.390625 31.78125 6.390625  Q 39.453125 6.390625 43.28125 13.890625  Q 47.125 21.390625 47.125 36.375  Q 47.125 51.421875 43.28125 58.90625  Q 39.453125 66.40625 31.78125 66.40625  z M 31.78125 74.21875  Q 44.046875 74.21875 50.515625 64.515625  Q 56.984375 54.828125 56.984375 36.375  Q 56.984375 17.96875 50.515625 8.265625  Q 44.046875 -1.421875 31.78125 -1.421875  Q 19.53125 -1.421875 13.0625 8.265625  Q 6.59375 17.96875 6.59375 36.375  Q 6.59375 54.828125 13.0625 64.515625  Q 19.53125 74.21875 31.78125 74.21875  z \" id=\"DejaVuSans-48\" />\n",
       "      </defs>\n",
       "      <g style=\"fill:#444443;\" transform=\"translate(14.635 43.298125)scale(0.08 -0.08)\">\n",
       "       <use xlink:href=\"#DejaVuSans-48\" />\n",
       "      </g>\n",
       "     </g>\n",
       "    </g>\n",
       "    <g id=\"xtick_2\">\n",
       "     <g id=\"line2d_2\">\n",
       "      <g>\n",
       "       <use style=\"stroke:#000000;stroke-width:0.3;\" x=\"192.551429\" y=\"30.219375\" xlink:href=\"#m7ae63d7699\" />\n",
       "      </g>\n",
       "     </g>\n",
       "     <g id=\"text_2\">\n",
       "      \n",
       "      <defs>\n",
       "       <path d=\"M 12.40625 8.296875  L 28.515625 8.296875  L 28.515625 63.921875  L 10.984375 60.40625  L 10.984375 69.390625  L 28.421875 72.90625  L 38.28125 72.90625  L 38.28125 8.296875  L 54.390625 8.296875  L 54.390625 0  L 12.40625 0  z \" id=\"DejaVuSans-49\" />\n",
       "      </defs>\n",
       "      <g style=\"fill:#444443;\" transform=\"translate(190.006429 43.298125)scale(0.08 -0.08)\">\n",
       "       <use xlink:href=\"#DejaVuSans-49\" />\n",
       "      </g>\n",
       "     </g>\n",
       "    </g>\n",
       "    <g id=\"text_3\">\n",
       "     \n",
       "     <defs>\n",
       "      <path d=\"M 6.59375 0  L 6.59375 51.859375  L 14.5 51.859375  L 14.5 44.484375  Q 20.21875 53.03125 31 53.03125  Q 35.6875 53.03125 39.625 51.34375  Q 43.5625 49.65625 45.515625 46.921875  Q 47.46875 44.1875 48.25 40.4375  Q 48.734375 37.984375 48.734375 31.890625  L 48.734375 0  L 39.9375 0  L 39.9375 31.546875  Q 39.9375 36.921875 38.90625 39.578125  Q 37.890625 42.234375 35.28125 43.8125  Q 32.671875 45.40625 29.15625 45.40625  Q 23.53125 45.40625 19.453125 41.84375  Q 15.375 38.28125 15.375 28.328125  L 15.375 0  z \" id=\"ArialMT-110\" />\n",
       "      <path d=\"M 40.4375 6.390625  Q 35.546875 2.25 31.03125 0.53125  Q 26.515625 -1.171875 21.34375 -1.171875  Q 12.796875 -1.171875 8.203125 3  Q 3.609375 7.171875 3.609375 13.671875  Q 3.609375 17.484375 5.34375 20.625  Q 7.078125 23.78125 9.890625 25.6875  Q 12.703125 27.59375 16.21875 28.5625  Q 18.796875 29.25 24.03125 29.890625  Q 34.671875 31.15625 39.703125 32.90625  Q 39.75 34.71875 39.75 35.203125  Q 39.75 40.578125 37.25 42.78125  Q 33.890625 45.75 27.25 45.75  Q 21.046875 45.75 18.09375 43.578125  Q 15.140625 41.40625 13.71875 35.890625  L 5.125 37.0625  Q 6.296875 42.578125 8.984375 45.96875  Q 11.671875 49.359375 16.75 51.1875  Q 21.828125 53.03125 28.515625 53.03125  Q 35.15625 53.03125 39.296875 51.46875  Q 43.453125 49.90625 45.40625 47.53125  Q 47.359375 45.171875 48.140625 41.546875  Q 48.578125 39.3125 48.578125 33.453125  L 48.578125 21.734375  Q 48.578125 9.46875 49.140625 6.21875  Q 49.703125 2.984375 51.375 0  L 42.1875 0  Q 40.828125 2.734375 40.4375 6.390625  z M 39.703125 26.03125  Q 34.90625 24.078125 25.34375 22.703125  Q 19.921875 21.921875 17.671875 20.9375  Q 15.4375 19.96875 14.203125 18.09375  Q 12.984375 16.21875 12.984375 13.921875  Q 12.984375 10.40625 15.640625 8.0625  Q 18.3125 5.71875 23.4375 5.71875  Q 28.515625 5.71875 32.46875 7.9375  Q 36.421875 10.15625 38.28125 14.015625  Q 39.703125 17 39.703125 22.796875  z \" id=\"ArialMT-97\" />\n",
       "      <path d=\"M 6.59375 0  L 6.59375 51.859375  L 14.453125 51.859375  L 14.453125 44.578125  Q 16.890625 48.390625 20.9375 50.703125  Q 25 53.03125 30.171875 53.03125  Q 35.9375 53.03125 39.625 50.640625  Q 43.3125 48.25 44.828125 43.953125  Q 50.984375 53.03125 60.84375 53.03125  Q 68.5625 53.03125 72.703125 48.75  Q 76.859375 44.484375 76.859375 35.59375  L 76.859375 0  L 68.109375 0  L 68.109375 32.671875  Q 68.109375 37.9375 67.25 40.25  Q 66.40625 42.578125 64.15625 43.984375  Q 61.921875 45.40625 58.890625 45.40625  Q 53.421875 45.40625 49.796875 41.765625  Q 46.1875 38.140625 46.1875 30.125  L 46.1875 0  L 37.40625 0  L 37.40625 33.6875  Q 37.40625 39.546875 35.25 42.46875  Q 33.109375 45.40625 28.21875 45.40625  Q 24.515625 45.40625 21.359375 43.453125  Q 18.21875 41.5 16.796875 37.734375  Q 15.375 33.984375 15.375 26.90625  L 15.375 0  z \" id=\"ArialMT-109\" />\n",
       "      <path d=\"M 42.09375 16.703125  L 51.171875 15.578125  Q 49.03125 7.625 43.21875 3.21875  Q 37.40625 -1.171875 28.375 -1.171875  Q 17 -1.171875 10.328125 5.828125  Q 3.65625 12.84375 3.65625 25.484375  Q 3.65625 38.578125 10.390625 45.796875  Q 17.140625 53.03125 27.875 53.03125  Q 38.28125 53.03125 44.875 45.953125  Q 51.46875 38.875 51.46875 26.03125  Q 51.46875 25.25 51.421875 23.6875  L 12.75 23.6875  Q 13.234375 15.140625 17.578125 10.59375  Q 21.921875 6.0625 28.421875 6.0625  Q 33.25 6.0625 36.671875 8.59375  Q 40.09375 11.140625 42.09375 16.703125  z M 13.234375 30.90625  L 42.1875 30.90625  Q 41.609375 37.453125 38.875 40.71875  Q 34.671875 45.796875 27.984375 45.796875  Q 21.921875 45.796875 17.796875 41.75  Q 13.671875 37.703125 13.234375 30.90625  z \" id=\"ArialMT-101\" />\n",
       "     </defs>\n",
       "     <g style=\"fill:#444443;\" transform=\"translate(94.2425 57.55125)scale(0.12 -0.12)\">\n",
       "      <use xlink:href=\"#ArialMT-110\" />\n",
       "      <use x=\"55.615234\" xlink:href=\"#ArialMT-97\" />\n",
       "      <use x=\"111.230469\" xlink:href=\"#ArialMT-109\" />\n",
       "      <use x=\"194.53125\" xlink:href=\"#ArialMT-101\" />\n",
       "     </g>\n",
       "    </g>\n",
       "   </g>\n",
       "   <g id=\"matplotlib.axis_2\">\n",
       "    <g id=\"ytick_1\">\n",
       "     <g id=\"line2d_3\">\n",
       "      <defs>\n",
       "       <path d=\"M 0 0  L -3.5 0  \" id=\"m1faaacfa7c\" style=\"stroke:#000000;stroke-width:0.3;\" />\n",
       "      </defs>\n",
       "      <g>\n",
       "       <use style=\"stroke:#000000;stroke-width:0.3;\" x=\"17.18\" y=\"30.219375\" xlink:href=\"#m1faaacfa7c\" />\n",
       "      </g>\n",
       "     </g>\n",
       "     <g id=\"text_4\">\n",
       "      \n",
       "      <g style=\"fill:#444443;\" transform=\"translate(5.09 33.25875)scale(0.08 -0.08)\">\n",
       "       <use xlink:href=\"#DejaVuSans-48\" />\n",
       "      </g>\n",
       "     </g>\n",
       "    </g>\n",
       "    <g id=\"ytick_2\">\n",
       "     <g id=\"line2d_4\">\n",
       "      <g>\n",
       "       <use style=\"stroke:#000000;stroke-width:0.3;\" x=\"17.18\" y=\"3.039375\" xlink:href=\"#m1faaacfa7c\" />\n",
       "      </g>\n",
       "     </g>\n",
       "     <g id=\"text_5\">\n",
       "      \n",
       "      <defs>\n",
       "       <path d=\"M 10.796875 72.90625  L 49.515625 72.90625  L 49.515625 64.59375  L 19.828125 64.59375  L 19.828125 46.734375  Q 21.96875 47.46875 24.109375 47.828125  Q 26.265625 48.1875 28.421875 48.1875  Q 40.625 48.1875 47.75 41.5  Q 54.890625 34.8125 54.890625 23.390625  Q 54.890625 11.625 47.5625 5.09375  Q 40.234375 -1.421875 26.90625 -1.421875  Q 22.3125 -1.421875 17.546875 -0.640625  Q 12.796875 0.140625 7.71875 1.703125  L 7.71875 11.625  Q 12.109375 9.234375 16.796875 8.0625  Q 21.484375 6.890625 26.703125 6.890625  Q 35.15625 6.890625 40.078125 11.328125  Q 45.015625 15.765625 45.015625 23.390625  Q 45.015625 31 40.078125 35.4375  Q 35.15625 39.890625 26.703125 39.890625  Q 22.75 39.890625 18.8125 39.015625  Q 14.890625 38.140625 10.796875 36.28125  z \" id=\"DejaVuSans-53\" />\n",
       "       <path d=\"M 19.1875 8.296875  L 53.609375 8.296875  L 53.609375 0  L 7.328125 0  L 7.328125 8.296875  Q 12.9375 14.109375 22.625 23.890625  Q 32.328125 33.6875 34.8125 36.53125  Q 39.546875 41.84375 41.421875 45.53125  Q 43.3125 49.21875 43.3125 52.78125  Q 43.3125 58.59375 39.234375 62.25  Q 35.15625 65.921875 28.609375 65.921875  Q 23.96875 65.921875 18.8125 64.3125  Q 13.671875 62.703125 7.8125 59.421875  L 7.8125 69.390625  Q 13.765625 71.78125 18.9375 73  Q 24.125 74.21875 28.421875 74.21875  Q 39.75 74.21875 46.484375 68.546875  Q 53.21875 62.890625 53.21875 53.421875  Q 53.21875 48.921875 51.53125 44.890625  Q 49.859375 40.875 45.40625 35.40625  Q 44.1875 33.984375 37.640625 27.21875  Q 31.109375 20.453125 19.1875 8.296875  z \" id=\"DejaVuSans-50\" />\n",
       "      </defs>\n",
       "      <g style=\"fill:#444443;\" transform=\"translate(0 6.07875)scale(0.08 -0.08)\">\n",
       "       <use xlink:href=\"#DejaVuSans-53\" />\n",
       "       <use x=\"63.623047\" xlink:href=\"#DejaVuSans-50\" />\n",
       "      </g>\n",
       "     </g>\n",
       "    </g>\n",
       "   </g>\n",
       "   <g id=\"patch_42\">\n",
       "    <path d=\"M 17.18 30.219375  L 17.18 3.039375  \" style=\"fill:none;stroke:#000000;stroke-linecap:square;stroke-linejoin:miter;stroke-width:0.3;\" />\n",
       "   </g>\n",
       "   <g id=\"patch_43\">\n",
       "    <path d=\"M 17.18 30.219375  L 201.32 30.219375  \" style=\"fill:none;stroke:#000000;stroke-linecap:square;stroke-linejoin:miter;stroke-width:0.3;\" />\n",
       "   </g>\n",
       "   <g id=\"text_6\">\n",
       "    \n",
       "    <defs>\n",
       "     <path d=\"M 4.15625 35.296875  Q 4.15625 48 6.765625 55.734375  Q 9.375 63.484375 14.515625 67.671875  Q 19.671875 71.875 27.484375 71.875  Q 33.25 71.875 37.59375 69.546875  Q 41.9375 67.234375 44.765625 62.859375  Q 47.609375 58.5 49.21875 52.21875  Q 50.828125 45.953125 50.828125 35.296875  Q 50.828125 22.703125 48.234375 14.96875  Q 45.65625 7.234375 40.5 3  Q 35.359375 -1.21875 27.484375 -1.21875  Q 17.140625 -1.21875 11.234375 6.203125  Q 4.15625 15.140625 4.15625 35.296875  z M 13.1875 35.296875  Q 13.1875 17.671875 17.3125 11.828125  Q 21.4375 6 27.484375 6  Q 33.546875 6 37.671875 11.859375  Q 41.796875 17.71875 41.796875 35.296875  Q 41.796875 52.984375 37.671875 58.78125  Q 33.546875 64.59375 27.390625 64.59375  Q 21.34375 64.59375 17.71875 59.46875  Q 13.1875 52.9375 13.1875 35.296875  z \" id=\"ArialMT-48\" />\n",
       "     <path d=\"M 9.078125 0  L 9.078125 10.015625  L 19.09375 10.015625  L 19.09375 0  z \" id=\"ArialMT-46\" />\n",
       "     <path d=\"M 4.15625 18.75  L 13.375 19.53125  Q 14.40625 12.796875 18.140625 9.390625  Q 21.875 6 27.15625 6  Q 33.5 6 37.890625 10.78125  Q 42.28125 15.578125 42.28125 23.484375  Q 42.28125 31 38.0625 35.34375  Q 33.84375 39.703125 27 39.703125  Q 22.75 39.703125 19.328125 37.765625  Q 15.921875 35.84375 13.96875 32.765625  L 5.71875 33.84375  L 12.640625 70.609375  L 48.25 70.609375  L 48.25 62.203125  L 19.671875 62.203125  L 15.828125 42.96875  Q 22.265625 47.46875 29.34375 47.46875  Q 38.71875 47.46875 45.15625 40.96875  Q 51.609375 34.46875 51.609375 24.265625  Q 51.609375 14.546875 45.953125 7.46875  Q 39.0625 -1.21875 27.15625 -1.21875  Q 17.390625 -1.21875 11.203125 4.25  Q 5.03125 9.71875 4.15625 18.75  z \" id=\"ArialMT-53\" />\n",
       "    </defs>\n",
       "    <g style=\"fill:#444443;\" transform=\"translate(97.081339 46.527375)scale(0.08 -0.08)\">\n",
       "     <use xlink:href=\"#ArialMT-48\" />\n",
       "     <use x=\"55.615234\" xlink:href=\"#ArialMT-46\" />\n",
       "     <use x=\"83.398438\" xlink:href=\"#ArialMT-53\" />\n",
       "     <use x=\"139.013672\" xlink:href=\"#ArialMT-48\" />\n",
       "    </g>\n",
       "   </g>\n",
       "  </g>\n",
       " </g>\n",
       " <defs>\n",
       "  <clipPath id=\"pe4565cb53d\">\n",
       "   <rect height=\"27.18\" width=\"184.14\" x=\"17.18\" y=\"3.039375\" />\n",
       "  </clipPath>\n",
       " </defs>\n",
       "</svg></g>\n",
       "\n",
       "<g class=\"node\" id=\"node2\">\n",
       "<title>leaf1</title>\n",
       "<polygon fill=\"none\" points=\"71,-59 30,-59 30,-3 71,-3 71,-59\" stroke=\"#444443\" stroke-width=\"0\" />\n",
       "<svg height=\"48px\" preserveAspectRatio=\"xMinYMin meet\" version=\"1.1\" viewBox=\"0 0 44.092 63.605649\" width=\"33px\" x=\"34.5\" y=\"-55\">\n",
       " <defs>\n",
       "  <style type=\"text/css\">\n",
       "*{stroke-linecap:butt;stroke-linejoin:round;}\n",
       "  </style>\n",
       " </defs>\n",
       " <g id=\"figure_1\">\n",
       "  <g id=\"patch_1\">\n",
       "   <path d=\"M 0 63.605649  L 44.092 63.605649  L 44.092 -0  L 0 -0  z \" style=\"fill:#ffffff;\" />\n",
       "  </g>\n",
       "  <g id=\"axes_1\">\n",
       "   <g id=\"patch_2\">\n",
       "    <path d=\"M 44.092 22.046  C 44.092 19.150946 43.521737 16.284042 42.413848 13.609361  C 41.305959 10.93468 39.681989 8.504236 37.634876 6.457124  C 35.587764 4.410011 33.15732 2.786041 30.482639 1.678152  C 27.807958 0.570263 24.941054 0 22.046 0  C 19.150946 0 16.284042 0.570263 13.609361 1.678152  C 10.93468 2.786041 8.504236 4.410011 6.457124 6.457124  C 4.410011 8.504236 2.786041 10.93468 1.678152 13.609361  C 0.570263 16.284042 0 19.150946 0 22.046  C 0 24.941054 0.570263 27.807958 1.678152 30.482639  C 2.786041 33.15732 4.410011 35.587764 6.457124 37.634876  C 8.504236 39.681989 10.93468 41.305959 13.609361 42.413848  C 16.284042 43.521737 19.150946 44.092 22.046 44.092  C 24.941054 44.092 27.807958 43.521737 30.482639 42.413848  C 33.15732 41.305959 35.587764 39.681989 37.634876 37.634876  C 39.681989 35.587764 41.305959 33.15732 42.413848 30.482639  C 43.521737 27.807958 44.092 24.941054 44.092 22.046  M 22.046 22.046  M 44.092 22.046  z \" style=\"fill:#fefebb;stroke:#444443;stroke-linejoin:miter;stroke-width:0.5;\" />\n",
       "   </g>\n",
       "   <g id=\"text_1\">\n",
       "    \n",
       "    <defs>\n",
       "     <path d=\"M 6.59375 0  L 6.59375 51.859375  L 14.5 51.859375  L 14.5 44.484375  Q 20.21875 53.03125 31 53.03125  Q 35.6875 53.03125 39.625 51.34375  Q 43.5625 49.65625 45.515625 46.921875  Q 47.46875 44.1875 48.25 40.4375  Q 48.734375 37.984375 48.734375 31.890625  L 48.734375 0  L 39.9375 0  L 39.9375 31.546875  Q 39.9375 36.921875 38.90625 39.578125  Q 37.890625 42.234375 35.28125 43.8125  Q 32.671875 45.40625 29.15625 45.40625  Q 23.53125 45.40625 19.453125 41.84375  Q 15.375 38.28125 15.375 28.328125  L 15.375 0  z \" id=\"ArialMT-110\" />\n",
       "     <path d=\"M 52.828125 42.09375  L 5.5625 42.09375  L 5.5625 50.296875  L 52.828125 50.296875  z M 52.828125 20.359375  L 5.5625 20.359375  L 5.5625 28.5625  L 52.828125 28.5625  z \" id=\"ArialMT-61\" />\n",
       "     <path d=\"M 50.34375 8.453125  L 50.34375 0  L 3.03125 0  Q 2.9375 3.171875 4.046875 6.109375  Q 5.859375 10.9375 9.828125 15.625  Q 13.8125 20.3125 21.34375 26.46875  Q 33.015625 36.03125 37.109375 41.625  Q 41.21875 47.21875 41.21875 52.203125  Q 41.21875 57.421875 37.46875 61  Q 33.734375 64.59375 27.734375 64.59375  Q 21.390625 64.59375 17.578125 60.78125  Q 13.765625 56.984375 13.71875 50.25  L 4.6875 51.171875  Q 5.609375 61.28125 11.65625 66.578125  Q 17.71875 71.875 27.9375 71.875  Q 38.234375 71.875 44.234375 66.15625  Q 50.25 60.453125 50.25 52  Q 50.25 47.703125 48.484375 43.546875  Q 46.734375 39.40625 42.65625 34.8125  Q 38.578125 30.21875 29.109375 22.21875  Q 21.1875 15.578125 18.9375 13.203125  Q 16.703125 10.84375 15.234375 8.453125  z \" id=\"ArialMT-50\" />\n",
       "     <path d=\"M 5.46875 16.546875  L 13.921875 17.328125  Q 14.984375 11.375 18.015625 8.6875  Q 21.046875 6 25.78125 6  Q 29.828125 6 32.875 7.859375  Q 35.9375 9.71875 37.890625 12.8125  Q 39.84375 15.921875 41.15625 21.1875  Q 42.484375 26.46875 42.484375 31.9375  Q 42.484375 32.515625 42.4375 33.6875  Q 39.796875 29.5 35.234375 26.875  Q 30.671875 24.265625 25.34375 24.265625  Q 16.453125 24.265625 10.296875 30.703125  Q 4.15625 37.15625 4.15625 47.703125  Q 4.15625 58.59375 10.578125 65.234375  Q 17 71.875 26.65625 71.875  Q 33.640625 71.875 39.421875 68.109375  Q 45.21875 64.359375 48.21875 57.390625  Q 51.21875 50.4375 51.21875 37.25  Q 51.21875 23.53125 48.234375 15.40625  Q 45.265625 7.28125 39.375 3.03125  Q 33.5 -1.21875 25.59375 -1.21875  Q 17.1875 -1.21875 11.859375 3.4375  Q 6.546875 8.109375 5.46875 16.546875  z M 41.453125 48.140625  Q 41.453125 55.71875 37.421875 60.15625  Q 33.40625 64.59375 27.734375 64.59375  Q 21.875 64.59375 17.53125 59.8125  Q 13.1875 55.03125 13.1875 47.40625  Q 13.1875 40.578125 17.3125 36.296875  Q 21.4375 32.03125 27.484375 32.03125  Q 33.59375 32.03125 37.515625 36.296875  Q 41.453125 40.578125 41.453125 48.140625  z \" id=\"ArialMT-57\" />\n",
       "    </defs>\n",
       "    <g style=\"fill:#444443;\" transform=\"translate(11.910453 52.297711)scale(0.09 -0.09)\">\n",
       "     <use xlink:href=\"#ArialMT-110\" />\n",
       "     <use x=\"55.615234\" xlink:href=\"#ArialMT-61\" />\n",
       "     <use x=\"114.013672\" xlink:href=\"#ArialMT-50\" />\n",
       "     <use x=\"169.628906\" xlink:href=\"#ArialMT-57\" />\n",
       "    </g>\n",
       "    \n",
       "    <defs>\n",
       "     <path d=\"M 3.328125 25.921875  Q 3.328125 40.328125 11.328125 47.265625  Q 18.015625 53.03125 27.640625 53.03125  Q 38.328125 53.03125 45.109375 46.015625  Q 51.90625 39.015625 51.90625 26.65625  Q 51.90625 16.65625 48.90625 10.90625  Q 45.90625 5.171875 40.15625 2  Q 34.421875 -1.171875 27.640625 -1.171875  Q 16.75 -1.171875 10.03125 5.8125  Q 3.328125 12.796875 3.328125 25.921875  z M 12.359375 25.921875  Q 12.359375 15.96875 16.703125 11.015625  Q 21.046875 6.0625 27.640625 6.0625  Q 34.1875 6.0625 38.53125 11.03125  Q 42.875 16.015625 42.875 26.21875  Q 42.875 35.84375 38.5 40.796875  Q 34.125 45.75 27.640625 45.75  Q 21.046875 45.75 16.703125 40.8125  Q 12.359375 35.890625 12.359375 25.921875  z \" id=\"ArialMT-111\" />\n",
       "     <path d=\"M 25.78125 7.859375  L 27.046875 0.09375  Q 23.34375 -0.6875 20.40625 -0.6875  Q 15.625 -0.6875 12.984375 0.828125  Q 10.359375 2.34375 9.28125 4.8125  Q 8.203125 7.28125 8.203125 15.1875  L 8.203125 45.015625  L 1.765625 45.015625  L 1.765625 51.859375  L 8.203125 51.859375  L 8.203125 64.703125  L 16.9375 69.96875  L 16.9375 51.859375  L 25.78125 51.859375  L 25.78125 45.015625  L 16.9375 45.015625  L 16.9375 14.703125  Q 16.9375 10.9375 17.40625 9.859375  Q 17.875 8.796875 18.921875 8.15625  Q 19.96875 7.515625 21.921875 7.515625  Q 23.390625 7.515625 25.78125 7.859375  z \" id=\"ArialMT-116\" />\n",
       "     <path d=\"M 6.59375 0  L 6.59375 71.578125  L 15.375 71.578125  L 15.375 45.90625  Q 21.53125 53.03125 30.90625 53.03125  Q 36.671875 53.03125 40.921875 50.75  Q 45.171875 48.484375 47 44.484375  Q 48.828125 40.484375 48.828125 32.859375  L 48.828125 0  L 40.046875 0  L 40.046875 32.859375  Q 40.046875 39.453125 37.1875 42.453125  Q 34.328125 45.453125 29.109375 45.453125  Q 25.203125 45.453125 21.75 43.421875  Q 18.3125 41.40625 16.84375 37.9375  Q 15.375 34.46875 15.375 28.375  L 15.375 0  z \" id=\"ArialMT-104\" />\n",
       "     <path d=\"M 42.09375 16.703125  L 51.171875 15.578125  Q 49.03125 7.625 43.21875 3.21875  Q 37.40625 -1.171875 28.375 -1.171875  Q 17 -1.171875 10.328125 5.828125  Q 3.65625 12.84375 3.65625 25.484375  Q 3.65625 38.578125 10.390625 45.796875  Q 17.140625 53.03125 27.875 53.03125  Q 38.28125 53.03125 44.875 45.953125  Q 51.46875 38.875 51.46875 26.03125  Q 51.46875 25.25 51.421875 23.6875  L 12.75 23.6875  Q 13.234375 15.140625 17.578125 10.59375  Q 21.921875 6.0625 28.421875 6.0625  Q 33.25 6.0625 36.671875 8.59375  Q 40.09375 11.140625 42.09375 16.703125  z M 13.234375 30.90625  L 42.1875 30.90625  Q 41.609375 37.453125 38.875 40.71875  Q 34.671875 45.796875 27.984375 45.796875  Q 21.921875 45.796875 17.796875 41.75  Q 13.671875 37.703125 13.234375 30.90625  z \" id=\"ArialMT-101\" />\n",
       "     <path d=\"M 6.5 0  L 6.5 51.859375  L 14.40625 51.859375  L 14.40625 44  Q 17.4375 49.515625 20 51.265625  Q 22.5625 53.03125 25.640625 53.03125  Q 30.078125 53.03125 34.671875 50.203125  L 31.640625 42.046875  Q 28.421875 43.953125 25.203125 43.953125  Q 22.3125 43.953125 20.015625 42.21875  Q 17.71875 40.484375 16.75 37.40625  Q 15.28125 32.71875 15.28125 27.15625  L 15.28125 0  z \" id=\"ArialMT-114\" />\n",
       "    </defs>\n",
       "    <g style=\"fill:#444443;\" transform=\"translate(11.790219 61.816899)scale(0.09 -0.09)\">\n",
       "     <use xlink:href=\"#ArialMT-111\" />\n",
       "     <use x=\"55.615234\" xlink:href=\"#ArialMT-116\" />\n",
       "     <use x=\"83.398438\" xlink:href=\"#ArialMT-104\" />\n",
       "     <use x=\"139.013672\" xlink:href=\"#ArialMT-101\" />\n",
       "     <use x=\"194.628906\" xlink:href=\"#ArialMT-114\" />\n",
       "    </g>\n",
       "   </g>\n",
       "  </g>\n",
       " </g>\n",
       "</svg></g>\n",
       "\n",
       "<g class=\"edge\" id=\"edge1\">\n",
       "<title>node0-&gt;leaf1</title>\n",
       "<path d=\"M70.8,-91.85C67.73,-82.81 64.25,-72.55 61.05,-63.11\" fill=\"none\" stroke=\"#444443\" stroke-width=\"0.3\" />\n",
       "<polygon fill=\"#444443\" points=\"62.31,-62.46 59.7,-59.12 59.66,-63.36 62.31,-62.46\" stroke=\"#444443\" stroke-width=\"0.3\" />\n",
       "<text font-family=\"Times,serif\" font-size=\"14.00\" text-anchor=\"start\" x=\"68.5\" y=\"-72.8\">&lt;</text>\n",
       "</g>\n",
       "\n",
       "<g class=\"node\" id=\"node3\">\n",
       "<title>leaf2</title>\n",
       "<polygon fill=\"none\" points=\"132,-62 85,-62 85,0 132,0 132,-62\" stroke=\"#444443\" stroke-width=\"0\" />\n",
       "<svg height=\"54px\" preserveAspectRatio=\"xMinYMin meet\" version=\"1.1\" viewBox=\"0 0 51.34 71.143569\" width=\"39px\" x=\"89.5\" y=\"-58\">\n",
       " <defs>\n",
       "  <style type=\"text/css\">\n",
       "*{stroke-linecap:butt;stroke-linejoin:round;}\n",
       "  </style>\n",
       " </defs>\n",
       " <g id=\"figure_1\">\n",
       "  <g id=\"patch_1\">\n",
       "   <path d=\"M 0 71.143569  L 51.34 71.143569  L 51.34 0  L 0 0  z \" style=\"fill:#ffffff;\" />\n",
       "  </g>\n",
       "  <g id=\"axes_1\">\n",
       "   <g id=\"patch_2\">\n",
       "    <path d=\"M 51.34 25.67  C 51.34 22.299046 50.675996 18.960871 49.385988 15.846516  C 48.09598 12.732161 46.205055 9.902193 43.821431 7.518569  C 41.437807 5.134945 38.607839 3.24402 35.493484 1.954012  C 32.379129 0.664004 29.040954 0 25.67 0  C 22.299046 0 18.960871 0.664004 15.846516 1.954012  C 12.732161 3.24402 9.902193 5.134945 7.518569 7.518569  C 5.134945 9.902193 3.24402 12.732161 1.954012 15.846516  C 0.664004 18.960871 0 22.299046 0 25.67  C 0 29.040954 0.664004 32.379129 1.954012 35.493484  C 3.24402 38.607839 5.134945 41.437807 7.518569 43.821431  C 9.902193 46.205055 12.732161 48.09598 15.846516 49.385988  C 18.960871 50.675996 22.299046 51.34 25.67 51.34  C 29.040954 51.34 32.379129 50.675996 35.493484 49.385988  C 38.607839 48.09598 41.437807 46.205055 43.821431 43.821431  C 46.205055 41.437807 48.09598 38.607839 49.385988 35.493484  C 50.675996 32.379129 51.34 29.040954 51.34 25.67  M 25.67 25.67  M 51.34 25.67  z \" style=\"fill:#a1dab4;stroke:#444443;stroke-linejoin:miter;stroke-width:0.5;\" />\n",
       "   </g>\n",
       "   <g id=\"text_1\">\n",
       "    \n",
       "    <defs>\n",
       "     <path d=\"M 6.59375 0  L 6.59375 51.859375  L 14.5 51.859375  L 14.5 44.484375  Q 20.21875 53.03125 31 53.03125  Q 35.6875 53.03125 39.625 51.34375  Q 43.5625 49.65625 45.515625 46.921875  Q 47.46875 44.1875 48.25 40.4375  Q 48.734375 37.984375 48.734375 31.890625  L 48.734375 0  L 39.9375 0  L 39.9375 31.546875  Q 39.9375 36.921875 38.90625 39.578125  Q 37.890625 42.234375 35.28125 43.8125  Q 32.671875 45.40625 29.15625 45.40625  Q 23.53125 45.40625 19.453125 41.84375  Q 15.375 38.28125 15.375 28.328125  L 15.375 0  z \" id=\"ArialMT-110\" />\n",
       "     <path d=\"M 52.828125 42.09375  L 5.5625 42.09375  L 5.5625 50.296875  L 52.828125 50.296875  z M 52.828125 20.359375  L 5.5625 20.359375  L 5.5625 28.5625  L 52.828125 28.5625  z \" id=\"ArialMT-61\" />\n",
       "     <path d=\"M 4.203125 18.890625  L 12.984375 20.0625  Q 14.5 12.59375 18.140625 9.296875  Q 21.78125 6 27 6  Q 33.203125 6 37.46875 10.296875  Q 41.75 14.59375 41.75 20.953125  Q 41.75 27 37.796875 30.921875  Q 33.84375 34.859375 27.734375 34.859375  Q 25.25 34.859375 21.53125 33.890625  L 22.515625 41.609375  Q 23.390625 41.5 23.921875 41.5  Q 29.546875 41.5 34.03125 44.421875  Q 38.53125 47.359375 38.53125 53.46875  Q 38.53125 58.296875 35.25 61.46875  Q 31.984375 64.65625 26.8125 64.65625  Q 21.6875 64.65625 18.265625 61.421875  Q 14.84375 58.203125 13.875 51.765625  L 5.078125 53.328125  Q 6.6875 62.15625 12.390625 67.015625  Q 18.109375 71.875 26.609375 71.875  Q 32.46875 71.875 37.390625 69.359375  Q 42.328125 66.84375 44.9375 62.5  Q 47.5625 58.15625 47.5625 53.265625  Q 47.5625 48.640625 45.0625 44.828125  Q 42.578125 41.015625 37.703125 38.765625  Q 44.046875 37.3125 47.5625 32.6875  Q 51.078125 28.078125 51.078125 21.140625  Q 51.078125 11.765625 44.234375 5.25  Q 37.40625 -1.265625 26.953125 -1.265625  Q 17.53125 -1.265625 11.296875 4.34375  Q 5.078125 9.96875 4.203125 18.890625  z \" id=\"ArialMT-51\" />\n",
       "     <path d=\"M 4.15625 18.75  L 13.375 19.53125  Q 14.40625 12.796875 18.140625 9.390625  Q 21.875 6 27.15625 6  Q 33.5 6 37.890625 10.78125  Q 42.28125 15.578125 42.28125 23.484375  Q 42.28125 31 38.0625 35.34375  Q 33.84375 39.703125 27 39.703125  Q 22.75 39.703125 19.328125 37.765625  Q 15.921875 35.84375 13.96875 32.765625  L 5.71875 33.84375  L 12.640625 70.609375  L 48.25 70.609375  L 48.25 62.203125  L 19.671875 62.203125  L 15.828125 42.96875  Q 22.265625 47.46875 29.34375 47.46875  Q 38.71875 47.46875 45.15625 40.96875  Q 51.609375 34.46875 51.609375 24.265625  Q 51.609375 14.546875 45.953125 7.46875  Q 39.0625 -1.21875 27.15625 -1.21875  Q 17.390625 -1.21875 11.203125 4.25  Q 5.03125 9.71875 4.15625 18.75  z \" id=\"ArialMT-53\" />\n",
       "    </defs>\n",
       "    <g style=\"fill:#444443;\" transform=\"translate(15.534453 59.835631)scale(0.09 -0.09)\">\n",
       "     <use xlink:href=\"#ArialMT-110\" />\n",
       "     <use x=\"55.615234\" xlink:href=\"#ArialMT-61\" />\n",
       "     <use x=\"114.013672\" xlink:href=\"#ArialMT-51\" />\n",
       "     <use x=\"169.628906\" xlink:href=\"#ArialMT-53\" />\n",
       "    </g>\n",
       "    \n",
       "    <defs>\n",
       "     <path d=\"M 14.703125 0  L 6.546875 0  L 6.546875 71.578125  L 15.328125 71.578125  L 15.328125 46.046875  Q 20.90625 53.03125 29.546875 53.03125  Q 34.328125 53.03125 38.59375 51.09375  Q 42.875 49.171875 45.625 45.671875  Q 48.390625 42.1875 49.953125 37.25  Q 51.515625 32.328125 51.515625 26.703125  Q 51.515625 13.375 44.921875 6.09375  Q 38.328125 -1.171875 29.109375 -1.171875  Q 19.921875 -1.171875 14.703125 6.5  z M 14.59375 26.3125  Q 14.59375 17 17.140625 12.84375  Q 21.296875 6.0625 28.375 6.0625  Q 34.125 6.0625 38.328125 11.0625  Q 42.53125 16.0625 42.53125 25.984375  Q 42.53125 36.140625 38.5 40.96875  Q 34.46875 45.796875 28.765625 45.796875  Q 23 45.796875 18.796875 40.796875  Q 14.59375 35.796875 14.59375 26.3125  z \" id=\"ArialMT-98\" />\n",
       "    </defs>\n",
       "    <g style=\"fill:#444443;\" transform=\"translate(23.167578 69.354819)scale(0.09 -0.09)\">\n",
       "     <use xlink:href=\"#ArialMT-98\" />\n",
       "    </g>\n",
       "   </g>\n",
       "  </g>\n",
       " </g>\n",
       "</svg></g>\n",
       "\n",
       "<g class=\"edge\" id=\"edge2\">\n",
       "<title>node0-&gt;leaf2</title>\n",
       "<path d=\"M88.2,-91.85C90.93,-83.82 93.98,-74.82 96.87,-66.29\" fill=\"none\" stroke=\"#444443\" stroke-width=\"0.3\" />\n",
       "<polygon fill=\"#444443\" points=\"98.31,-66.39 98.27,-62.15 95.66,-65.49 98.31,-66.39\" stroke=\"#444443\" stroke-width=\"0.3\" />\n",
       "<text font-family=\"Times,serif\" font-size=\"14.00\" text-anchor=\"start\" x=\"95.5\" y=\"-72.8\">&#8805;</text>\n",
       "</g>\n",
       "\n",
       "\n",
       "<g class=\"node\" id=\"node4\">\n",
       "<title>legend</title>\n",
       "<polygon fill=\"none\" points=\"220.5,-141.5 166.5,-141.5 166.5,-95.5 220.5,-95.5 220.5,-141.5\" stroke=\"black\" stroke-width=\"0\" />\n",
       "<svg height=\"42px\" preserveAspectRatio=\"xMinYMin meet\" version=\"1.1\" viewBox=\"0 0 66.140625 55.1125\" width=\"50px\" x=\"168.5\" y=\"-139.5\">\n",
       " <defs>\n",
       "  <style type=\"text/css\">\n",
       "*{stroke-linecap:butt;stroke-linejoin:round;}\n",
       "  </style>\n",
       " </defs>\n",
       " <g id=\"figure_1\">\n",
       "  <g id=\"patch_1\">\n",
       "   <path d=\"M 0 55.1125  L 66.140625 55.1125  L 66.140625 0  L 0 0  z \" style=\"fill:#ffffff;\" />\n",
       "  </g>\n",
       "  <g id=\"axes_1\">\n",
       "   <g id=\"legend_1\">\n",
       "    <g id=\"patch_2\">\n",
       "     <path d=\"M 2 55.1125  L 64.140625 55.1125  Q 66.140625 55.1125 66.140625 53.1125  L 66.140625 2  Q 66.140625 -0 64.140625 -0  L 2 -0  Q 0 -0 0 2  L 0 53.1125  Q 0 55.1125 2 55.1125  z \" style=\"fill:#ffffff;opacity:0.8;stroke:#444443;stroke-linejoin:miter;stroke-width:0.5;\" />\n",
       "    </g>\n",
       "    <g id=\"text_1\">\n",
       "     \n",
       "     <defs>\n",
       "      <path d=\"M 27.484375 70.21875  L 27.484375 54.6875  L 45.515625 54.6875  L 45.515625 42.1875  L 27.484375 42.1875  L 27.484375 19  Q 27.484375 15.1875 29 13.84375  Q 30.515625 12.5 35.015625 12.5  L 44 12.5  L 44 0  L 29 0  Q 18.65625 0 14.328125 4.3125  Q 10.015625 8.640625 10.015625 19  L 10.015625 42.1875  L 1.3125 42.1875  L 1.3125 54.6875  L 10.015625 54.6875  L 10.015625 70.21875  z \" id=\"DejaVuSans-Bold-116\" />\n",
       "      <path d=\"M 32.90625 24.609375  Q 27.4375 24.609375 24.671875 22.75  Q 21.921875 20.90625 21.921875 17.28125  Q 21.921875 13.96875 24.140625 12.078125  Q 26.375 10.203125 30.328125 10.203125  Q 35.25 10.203125 38.625 13.734375  Q 42 17.28125 42 22.609375  L 42 24.609375  z M 59.625 31.203125  L 59.625 0  L 42 0  L 42 8.109375  Q 38.484375 3.125 34.078125 0.84375  Q 29.6875 -1.421875 23.390625 -1.421875  Q 14.890625 -1.421875 9.59375 3.53125  Q 4.296875 8.5 4.296875 16.40625  Q 4.296875 26.03125 10.90625 30.515625  Q 17.53125 35.015625 31.6875 35.015625  L 42 35.015625  L 42 36.375  Q 42 40.53125 38.71875 42.453125  Q 35.453125 44.390625 28.515625 44.390625  Q 22.90625 44.390625 18.0625 43.265625  Q 13.234375 42.140625 9.078125 39.890625  L 9.078125 53.21875  Q 14.703125 54.59375 20.359375 55.296875  Q 26.03125 56 31.6875 56  Q 46.484375 56 53.046875 50.171875  Q 59.625 44.34375 59.625 31.203125  z \" id=\"DejaVuSans-Bold-97\" />\n",
       "      <path d=\"M 49.03125 39.796875  Q 46.734375 40.875 44.453125 41.375  Q 42.1875 41.890625 39.890625 41.890625  Q 33.15625 41.890625 29.515625 37.5625  Q 25.875 33.25 25.875 25.203125  L 25.875 0  L 8.40625 0  L 8.40625 54.6875  L 25.875 54.6875  L 25.875 45.703125  Q 29.25 51.078125 33.609375 53.53125  Q 37.984375 56 44.09375 56  Q 44.96875 56 45.984375 55.921875  Q 47.015625 55.859375 48.96875 55.609375  z \" id=\"DejaVuSans-Bold-114\" />\n",
       "      <path d=\"M 45.609375 9.28125  Q 42 4.5 37.640625 2.25  Q 33.296875 0 27.59375 0  Q 17.578125 0 11.03125 7.875  Q 4.5 15.765625 4.5 27.984375  Q 4.5 40.234375 11.03125 48.0625  Q 17.578125 55.90625 27.59375 55.90625  Q 33.296875 55.90625 37.640625 53.65625  Q 42 51.421875 45.609375 46.578125  L 45.609375 54.6875  L 63.1875 54.6875  L 63.1875 5.515625  Q 63.1875 -7.671875 54.859375 -14.625  Q 46.53125 -21.578125 30.71875 -21.578125  Q 25.59375 -21.578125 20.796875 -20.796875  Q 16.015625 -20.015625 11.1875 -18.40625  L 11.1875 -4.78125  Q 15.765625 -7.421875 20.15625 -8.71875  Q 24.5625 -10.015625 29 -10.015625  Q 37.59375 -10.015625 41.59375 -6.25  Q 45.609375 -2.484375 45.609375 5.515625  z M 34.078125 43.3125  Q 28.65625 43.3125 25.625 39.296875  Q 22.609375 35.296875 22.609375 27.984375  Q 22.609375 20.453125 25.53125 16.578125  Q 28.46875 12.703125 34.078125 12.703125  Q 39.546875 12.703125 42.578125 16.703125  Q 45.609375 20.703125 45.609375 27.984375  Q 45.609375 35.296875 42.578125 39.296875  Q 39.546875 43.3125 34.078125 43.3125  z \" id=\"DejaVuSans-Bold-103\" />\n",
       "      <path d=\"M 62.984375 27.484375  L 62.984375 22.515625  L 22.125 22.515625  Q 22.75 16.359375 26.5625 13.28125  Q 30.375 10.203125 37.203125 10.203125  Q 42.71875 10.203125 48.5 11.84375  Q 54.296875 13.484375 60.40625 16.796875  L 60.40625 3.328125  Q 54.203125 0.984375 48 -0.21875  Q 41.796875 -1.421875 35.59375 -1.421875  Q 20.75 -1.421875 12.515625 6.125  Q 4.296875 13.671875 4.296875 27.296875  Q 4.296875 40.671875 12.375 48.328125  Q 20.453125 56 34.625 56  Q 47.515625 56 55.25 48.234375  Q 62.984375 40.484375 62.984375 27.484375  z M 45.015625 33.296875  Q 45.015625 38.28125 42.109375 41.328125  Q 39.203125 44.390625 34.515625 44.390625  Q 29.4375 44.390625 26.265625 41.53125  Q 23.09375 38.671875 22.3125 33.296875  z \" id=\"DejaVuSans-Bold-101\" />\n",
       "     </defs>\n",
       "     <g style=\"fill:#444443;\" transform=\"translate(15.480469 15.598437)scale(0.1 -0.1)\">\n",
       "      <use xlink:href=\"#DejaVuSans-Bold-116\" />\n",
       "      <use x=\"47.802734\" xlink:href=\"#DejaVuSans-Bold-97\" />\n",
       "      <use x=\"115.283203\" xlink:href=\"#DejaVuSans-Bold-114\" />\n",
       "      <use x=\"164.599609\" xlink:href=\"#DejaVuSans-Bold-103\" />\n",
       "      <use x=\"236.181641\" xlink:href=\"#DejaVuSans-Bold-101\" />\n",
       "      <use x=\"304.003906\" xlink:href=\"#DejaVuSans-Bold-116\" />\n",
       "     </g>\n",
       "    </g>\n",
       "    <g id=\"patch_3\">\n",
       "     <path d=\"M 8 30.354687  L 28 30.354687  L 28 23.354687  L 8 23.354687  z \" style=\"fill:#fefebb;stroke:#444443;stroke-linejoin:miter;stroke-width:0.4;\" />\n",
       "    </g>\n",
       "    <g id=\"text_2\">\n",
       "     \n",
       "     <defs>\n",
       "      <path d=\"M 30.609375 48.390625  Q 23.390625 48.390625 19.1875 42.75  Q 14.984375 37.109375 14.984375 27.296875  Q 14.984375 17.484375 19.15625 11.84375  Q 23.34375 6.203125 30.609375 6.203125  Q 37.796875 6.203125 41.984375 11.859375  Q 46.1875 17.53125 46.1875 27.296875  Q 46.1875 37.015625 41.984375 42.703125  Q 37.796875 48.390625 30.609375 48.390625  z M 30.609375 56  Q 42.328125 56 49.015625 48.375  Q 55.71875 40.765625 55.71875 27.296875  Q 55.71875 13.875 49.015625 6.21875  Q 42.328125 -1.421875 30.609375 -1.421875  Q 18.84375 -1.421875 12.171875 6.21875  Q 5.515625 13.875 5.515625 27.296875  Q 5.515625 40.765625 12.171875 48.375  Q 18.84375 56 30.609375 56  z \" id=\"DejaVuSans-111\" />\n",
       "      <path d=\"M 18.3125 70.21875  L 18.3125 54.6875  L 36.8125 54.6875  L 36.8125 47.703125  L 18.3125 47.703125  L 18.3125 18.015625  Q 18.3125 11.328125 20.140625 9.421875  Q 21.96875 7.515625 27.59375 7.515625  L 36.8125 7.515625  L 36.8125 0  L 27.59375 0  Q 17.1875 0 13.234375 3.875  Q 9.28125 7.765625 9.28125 18.015625  L 9.28125 47.703125  L 2.6875 47.703125  L 2.6875 54.6875  L 9.28125 54.6875  L 9.28125 70.21875  z \" id=\"DejaVuSans-116\" />\n",
       "      <path d=\"M 54.890625 33.015625  L 54.890625 0  L 45.90625 0  L 45.90625 32.71875  Q 45.90625 40.484375 42.875 44.328125  Q 39.84375 48.1875 33.796875 48.1875  Q 26.515625 48.1875 22.3125 43.546875  Q 18.109375 38.921875 18.109375 30.90625  L 18.109375 0  L 9.078125 0  L 9.078125 75.984375  L 18.109375 75.984375  L 18.109375 46.1875  Q 21.34375 51.125 25.703125 53.5625  Q 30.078125 56 35.796875 56  Q 45.21875 56 50.046875 50.171875  Q 54.890625 44.34375 54.890625 33.015625  z \" id=\"DejaVuSans-104\" />\n",
       "      <path d=\"M 56.203125 29.59375  L 56.203125 25.203125  L 14.890625 25.203125  Q 15.484375 15.921875 20.484375 11.0625  Q 25.484375 6.203125 34.421875 6.203125  Q 39.59375 6.203125 44.453125 7.46875  Q 49.3125 8.734375 54.109375 11.28125  L 54.109375 2.78125  Q 49.265625 0.734375 44.1875 -0.34375  Q 39.109375 -1.421875 33.890625 -1.421875  Q 20.796875 -1.421875 13.15625 6.1875  Q 5.515625 13.8125 5.515625 26.8125  Q 5.515625 40.234375 12.765625 48.109375  Q 20.015625 56 32.328125 56  Q 43.359375 56 49.78125 48.890625  Q 56.203125 41.796875 56.203125 29.59375  z M 47.21875 32.234375  Q 47.125 39.59375 43.09375 43.984375  Q 39.0625 48.390625 32.421875 48.390625  Q 24.90625 48.390625 20.390625 44.140625  Q 15.875 39.890625 15.1875 32.171875  z \" id=\"DejaVuSans-101\" />\n",
       "      <path d=\"M 41.109375 46.296875  Q 39.59375 47.171875 37.8125 47.578125  Q 36.03125 48 33.890625 48  Q 26.265625 48 22.1875 43.046875  Q 18.109375 38.09375 18.109375 28.8125  L 18.109375 0  L 9.078125 0  L 9.078125 54.6875  L 18.109375 54.6875  L 18.109375 46.1875  Q 20.953125 51.171875 25.484375 53.578125  Q 30.03125 56 36.53125 56  Q 37.453125 56 38.578125 55.875  Q 39.703125 55.765625 41.0625 55.515625  z \" id=\"DejaVuSans-114\" />\n",
       "     </defs>\n",
       "     <g style=\"fill:#444443;\" transform=\"translate(31.5 30.354687)scale(0.1 -0.1)\">\n",
       "      <use xlink:href=\"#DejaVuSans-111\" />\n",
       "      <use x=\"61.181641\" xlink:href=\"#DejaVuSans-116\" />\n",
       "      <use x=\"100.390625\" xlink:href=\"#DejaVuSans-104\" />\n",
       "      <use x=\"163.769531\" xlink:href=\"#DejaVuSans-101\" />\n",
       "      <use x=\"225.292969\" xlink:href=\"#DejaVuSans-114\" />\n",
       "     </g>\n",
       "    </g>\n",
       "    <g id=\"patch_4\">\n",
       "     <path d=\"M 8 45.032812  L 28 45.032812  L 28 38.032812  L 8 38.032812  z \" style=\"fill:#a1dab4;stroke:#444443;stroke-linejoin:miter;stroke-width:0.4;\" />\n",
       "    </g>\n",
       "    <g id=\"text_3\">\n",
       "     \n",
       "     <defs>\n",
       "      <path d=\"M 48.6875 27.296875  Q 48.6875 37.203125 44.609375 42.84375  Q 40.53125 48.484375 33.40625 48.484375  Q 26.265625 48.484375 22.1875 42.84375  Q 18.109375 37.203125 18.109375 27.296875  Q 18.109375 17.390625 22.1875 11.75  Q 26.265625 6.109375 33.40625 6.109375  Q 40.53125 6.109375 44.609375 11.75  Q 48.6875 17.390625 48.6875 27.296875  z M 18.109375 46.390625  Q 20.953125 51.265625 25.265625 53.625  Q 29.59375 56 35.59375 56  Q 45.5625 56 51.78125 48.09375  Q 58.015625 40.1875 58.015625 27.296875  Q 58.015625 14.40625 51.78125 6.484375  Q 45.5625 -1.421875 35.59375 -1.421875  Q 29.59375 -1.421875 25.265625 0.953125  Q 20.953125 3.328125 18.109375 8.203125  L 18.109375 0  L 9.078125 0  L 9.078125 75.984375  L 18.109375 75.984375  z \" id=\"DejaVuSans-98\" />\n",
       "     </defs>\n",
       "     <g style=\"fill:#444443;\" transform=\"translate(31.5 45.032812)scale(0.1 -0.1)\">\n",
       "      <use xlink:href=\"#DejaVuSans-98\" />\n",
       "     </g>\n",
       "    </g>\n",
       "   </g>\n",
       "  </g>\n",
       " </g>\n",
       "</svg></g>\n",
       "</g>\n",
       "</svg>"
      ],
      "text/plain": [
       "<dtreeviz.trees.DTreeViz at 0x12141a410>"
      ]
     },
     "execution_count": 33,
     "metadata": {},
     "output_type": "execute_result"
    }
   ],
   "source": [
    "estimators = forest.estimators_\n",
    "viz = dtreeviz(\n",
    "    estimators[0],\n",
    "    X_train,\n",
    "    y_train,\n",
    "    target_name='target',\n",
    "    feature_names=columns,\n",
    "    class_names=[str(i) for i in ['other', 'b']]\n",
    ")\n",
    "\n",
    "viz"
   ]
  },
  {
   "cell_type": "markdown",
   "metadata": {},
   "source": [
    "ここで先ほどのRandom Forestの決定木について、その構造を表示してみる。\n",
    "\n",
    "上記の図からわかるように、「0または1」という2択ではなく「1未満あるいは1以上」という条件分岐が設定されている。これは、トレーニングセットに`LabelEncoder()`で処理された0と1の2値を連続値として解釈しているため。そのため、`LabelEncoder()`処理後の数値は数値の大小に本来意味がないにもかかわらず、「意味を持たせてしまう」ような判斷をしている。\n",
    "\n",
    "原因は、Random ForestにはLightGBMのように明示的にカテゴリ変数を指定するパラメータが存在しないことと、`LabelEncoder()`のデフォルト設定が「アルファベット順や数字順でラベルを設定する」ようになっているため。\n",
    "\n",
    "今回のデータは「たまたま」トレーニングセットに存在しないデータ（「c」のこと）が、トレーニングセットのデータ（「a」と「b」のこと）よりアルファベット順で後ろだったため、ラベル変換の時点で「a, b, c」を「0, 1, 2」として変換してしまった。さらにこのデータを連続値として解釈し、それに基づく大小関係を分岐の条件としたため、予測値がLightGBMとRandom Forestで異なった結果となった。"
   ]
  },
  {
   "cell_type": "markdown",
   "metadata": {},
   "source": [
    "本来`LabelEncoder()`の処理自体は決定木ベースのアルゴリズムと相性がいい（そもそも、One-Hot-Encodingと決定木の相性があまり良くない。特に特徴量が多ければ多いほど処理コストが増大しがち）のだけど、上記のように裏目に出るケースが存在する（多少、上記は極端な例ではあるが）。\n",
    "\n",
    "ある特徴量において、いかに「データの内容や取り得る可能性のある値を確定できるか」、そして「それに基づいてどんな前処理を行うか（さらにはどんなアルゴリズムを使うか）を判斷するか」は、非常に重要であり難しい。大抵の場合、（特にカテゴリ変数は）入力される可能性のある値が多岐に渡り、しかも入力パターンが増える傾向があるので、そのような値をどこまでハンドリングしてどのように処理するかが、精度向上の重要な要素になる。"
   ]
  }
 ],
 "metadata": {
  "kernelspec": {
   "display_name": "Python 3.7.5 64-bit",
   "language": "python",
   "name": "python37564bit8c0d97d612c743cdbdf254ac893ad2a5"
  },
  "language_info": {
   "codemirror_mode": {
    "name": "ipython",
    "version": 3
   },
   "file_extension": ".py",
   "mimetype": "text/x-python",
   "name": "python",
   "nbconvert_exporter": "python",
   "pygments_lexer": "ipython3",
   "version": "3.7.5"
  }
 },
 "nbformat": 4,
 "nbformat_minor": 2
}
